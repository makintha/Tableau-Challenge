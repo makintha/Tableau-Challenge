{
    "cells": [
        {
            "cell_type": "code",
            "execution_count": 1,
            "source": [
                "import pandas as pd\r\n",
                "import os"
            ],
            "outputs": [],
            "metadata": {}
        },
        {
            "cell_type": "code",
            "execution_count": 2,
            "source": [
                "import os\r\n",
                "\r\n",
                "# Getting the current work directory (cwd)\r\n",
                "thisdir = os.getcwd()\r\n",
                "\r\n",
                "files=[]\r\n",
                "# r=root, d=directories, f = files\r\n",
                "for r, d, f in os.walk(thisdir):\r\n",
                "    for file in f:\r\n",
                "        if file.endswith(\".csv\"):\r\n",
                "            files.append(os.path.join(r, file))\r\n",
                "data_2013 = []\r\n",
                "for file in files:\r\n",
                "    if ('2013' or '2014') in file:\r\n",
                "        data_2013.append(file)\r\n",
                "    # if ('2017' or '2018') in file:\r\n",
                "    #     data_2017.append(file)\r\n",
                "    # if ('2019' or '2020') in file:\r\n",
                "    #     data_2019.append(file)"
            ],
            "outputs": [],
            "metadata": {}
        },
        {
            "cell_type": "markdown",
            "source": [
                "# Concat Data"
            ],
            "metadata": {}
        },
        {
            "cell_type": "code",
            "execution_count": 3,
            "source": [
                "df = pd.concat([pd.read_csv(file) for file in data_2013])\r\n",
                "df.to_csv(\"2013.csv\")"
            ],
            "outputs": [],
            "metadata": {}
        }
    ],
    "metadata": {
        "orig_nbformat": 4,
        "language_info": {
            "name": "python",
            "version": "3.8.8",
            "mimetype": "text/x-python",
            "codemirror_mode": {
                "name": "ipython",
                "version": 3
            },
            "pygments_lexer": "ipython3",
            "nbconvert_exporter": "python",
            "file_extension": ".py"
        },
        "kernelspec": {
            "name": "python3",
            "display_name": "Python 3.8.8 64-bit ('base': conda)"
        },
        "interpreter": {
            "hash": "b3ba2566441a7c06988d0923437866b63cedc61552a5af99d1f4fb67d367b25f"
        }
    },
    "nbformat": 4,
    "nbformat_minor": 2
}